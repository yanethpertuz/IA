{
  "nbformat": 4,
  "nbformat_minor": 0,
  "metadata": {
    "colab": {
      "provenance": [],
      "authorship_tag": "ABX9TyNtbfbDcNG0KMpDK85lTMmR",
      "include_colab_link": true
    },
    "kernelspec": {
      "name": "python3",
      "display_name": "Python 3"
    },
    "language_info": {
      "name": "python"
    }
  },
  "cells": [
    {
      "cell_type": "markdown",
      "metadata": {
        "id": "view-in-github",
        "colab_type": "text"
      },
      "source": [
        "<a href=\"https://colab.research.google.com/github/yanethpertuz/IA/blob/main/modelo_entrenado_py.ipynb\" target=\"_parent\"><img src=\"https://colab.research.google.com/assets/colab-badge.svg\" alt=\"Open In Colab\"/></a>"
      ]
    },
    {
      "cell_type": "code",
      "execution_count": null,
      "metadata": {
        "id": "O1H_QTTwAA8G"
      },
      "outputs": [],
      "source": [
        "import numpy as np\n",
        "import pandas as pd\n",
        "import matplotlib.pyplot as plt\n",
        "from sklearn.model_selection import train_test_split\n",
        "from sklearn.linear_model import LinearRegression\n",
        "from sklearn.metrics import mean_squared_error, r2_score\n",
        "\n",
        "# Generar datos simulados\n",
        "data = {\n",
        "    'Tamaño_m2': [50, 60, 75, 80, 90, 100, 120, 150, 180, 200],\n",
        "    'Precio': [150, 180, 210, 240, 270, 300, 360, 450, 540, 600]\n",
        "}\n",
        "df = pd.DataFrame(data)\n",
        "\n",
        "# Separar variables independientes y dependientes\n",
        "X = df[['Tamaño_m2']]\n",
        "y = df['Precio']\n",
        "\n",
        "# Dividir en conjuntos de entrenamiento y prueba\n",
        "X_train, X_test, y_train, y_test = train_test_split(X, y, test_size=0.2, random_state=42)\n",
        "\n",
        "# Crear y entrenar el modelo\n",
        "modelo = LinearRegression()\n",
        "modelo.fit(X_train, y_train)\n",
        "\n",
        "# Predicciones\n",
        "y_pred = modelo.predict(X_test)\n",
        "\n",
        "# Visualizar resultados\n",
        "plt.scatter(X_train, y_train, color='blue', label='Datos de entrenamiento')\n",
        "plt.scatter(X_test, y_test, color='red', label='Datos de prueba')\n",
        "plt.plot(X_test, y_pred, color='green', linewidth=2, label='Línea de regresión')\n",
        "plt.xlabel('Tamaño de la casa (m²)')\n",
        "plt.ylabel('Precio (en miles de dólares)')\n",
        "plt.legend()\n",
        "plt.title('Regresión Lineal: Tamaño vs Precio')\n",
        "plt.show()\n",
        "\n",
        "# Evaluación del modelo\n",
        "mse = mean_squared_error(y_test, y_pred)\n",
        "r2 = r2_score(y_test, y_pred)\n",
        "print(f'Error Cuadrático Medio (MSE): {mse}')\n",
        "print(f'Coeficiente de Determinación (R²): {r2}')"
      ]
    }
  ]
}